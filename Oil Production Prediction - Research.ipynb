{
 "cells": [
  {
   "cell_type": "code",
   "execution_count": 23,
   "metadata": {
    "executionInfo": {
     "elapsed": 333,
     "status": "ok",
     "timestamp": 1647943757642,
     "user": {
      "displayName": "Aymane ElAlami",
      "photoUrl": "https://lh3.googleusercontent.com/a/default-user=s64",
      "userId": "16393328398258824499"
     },
     "user_tz": -60
    },
    "id": "5WkrGrnlhDnD"
   },
   "outputs": [],
   "source": [
    "import pandas as pd\n",
    "#from google.colab import drive"
   ]
  },
  {
   "cell_type": "code",
   "execution_count": 24,
   "metadata": {
    "colab": {
     "base_uri": "https://localhost:8080/"
    },
    "executionInfo": {
     "elapsed": 20126,
     "status": "ok",
     "timestamp": 1647943777760,
     "user": {
      "displayName": "Aymane ElAlami",
      "photoUrl": "https://lh3.googleusercontent.com/a/default-user=s64",
      "userId": "16393328398258824499"
     },
     "user_tz": -60
    },
    "id": "p1hgYtIyk9jh",
    "outputId": "13eca774-045c-42d3-afc9-26951b8cdb2a"
   },
   "outputs": [],
   "source": [
    "#drive.mount('/content/drive')"
   ]
  },
  {
   "cell_type": "code",
   "execution_count": 25,
   "metadata": {
    "colab": {
     "base_uri": "https://localhost:8080/",
     "height": 1000
    },
    "executionInfo": {
     "elapsed": 813,
     "status": "ok",
     "timestamp": 1647943778563,
     "user": {
      "displayName": "Aymane ElAlami",
      "photoUrl": "https://lh3.googleusercontent.com/a/default-user=s64",
      "userId": "16393328398258824499"
     },
     "user_tz": -60
    },
    "id": "oc-XMB7bh9Gr",
    "outputId": "127511d6-422b-4dd5-8640-424a5fe2e01b"
   },
   "outputs": [
    {
     "data": {
      "text/html": [
       "<div>\n",
       "<style scoped>\n",
       "    .dataframe tbody tr th:only-of-type {\n",
       "        vertical-align: middle;\n",
       "    }\n",
       "\n",
       "    .dataframe tbody tr th {\n",
       "        vertical-align: top;\n",
       "    }\n",
       "\n",
       "    .dataframe thead th {\n",
       "        text-align: right;\n",
       "    }\n",
       "</style>\n",
       "<table border=\"1\" class=\"dataframe\">\n",
       "  <thead>\n",
       "    <tr style=\"text-align: right;\">\n",
       "      <th></th>\n",
       "      <th>Years</th>\n",
       "      <th>Production (TJ)</th>\n",
       "      <th>Consumption (TJ)</th>\n",
       "      <th>Transportation (TJ)</th>\n",
       "      <th>Industry  (TJ)</th>\n",
       "      <th>Residential (TJ)</th>\n",
       "      <th>Commercial (TJ)</th>\n",
       "      <th>Population growth (%)</th>\n",
       "      <th>Population density (%)</th>\n",
       "      <th>GDP (billion USD)</th>\n",
       "      <th>Installed capacity of renewable energies (MW)</th>\n",
       "      <th>Reserves (TJ)</th>\n",
       "      <th>Oil &amp; products Imports (TJ)</th>\n",
       "      <th>Population growth (%).1</th>\n",
       "      <th>GDP (Trillion USD)</th>\n",
       "      <th>Oil prices ($/MW)</th>\n",
       "      <th>Energy Security (%)</th>\n",
       "      <th>Energy Equity (%)</th>\n",
       "      <th>Environmental Sustainability (%)</th>\n",
       "    </tr>\n",
       "  </thead>\n",
       "  <tbody>\n",
       "    <tr>\n",
       "      <th>0</th>\n",
       "      <td>1973</td>\n",
       "      <td>1600</td>\n",
       "      <td>84300</td>\n",
       "      <td>28400</td>\n",
       "      <td>42900</td>\n",
       "      <td>27200</td>\n",
       "      <td>23000</td>\n",
       "      <td>2.08</td>\n",
       "      <td>24.40</td>\n",
       "      <td>6.242</td>\n",
       "      <td>620</td>\n",
       "      <td>612.0</td>\n",
       "      <td>102576.6</td>\n",
       "      <td>1.98</td>\n",
       "      <td>4.642</td>\n",
       "      <td>5.591059</td>\n",
       "      <td>-1.0</td>\n",
       "      <td>-1.0</td>\n",
       "      <td>-1.0</td>\n",
       "    </tr>\n",
       "    <tr>\n",
       "      <th>1</th>\n",
       "      <td>1974</td>\n",
       "      <td>1000</td>\n",
       "      <td>93800</td>\n",
       "      <td>28400</td>\n",
       "      <td>49800</td>\n",
       "      <td>28400</td>\n",
       "      <td>24300</td>\n",
       "      <td>2.12</td>\n",
       "      <td>24.92</td>\n",
       "      <td>7.675</td>\n",
       "      <td>620</td>\n",
       "      <td>612.0</td>\n",
       "      <td>126022.7</td>\n",
       "      <td>1.93</td>\n",
       "      <td>5.350</td>\n",
       "      <td>19.679170</td>\n",
       "      <td>-1.0</td>\n",
       "      <td>-1.0</td>\n",
       "      <td>-1.0</td>\n",
       "    </tr>\n",
       "    <tr>\n",
       "      <th>2</th>\n",
       "      <td>1975</td>\n",
       "      <td>800</td>\n",
       "      <td>96000</td>\n",
       "      <td>30500</td>\n",
       "      <td>46100</td>\n",
       "      <td>29800</td>\n",
       "      <td>26000</td>\n",
       "      <td>2.18</td>\n",
       "      <td>25.47</td>\n",
       "      <td>8.985</td>\n",
       "      <td>620</td>\n",
       "      <td>612.0</td>\n",
       "      <td>128116.1</td>\n",
       "      <td>1.86</td>\n",
       "      <td>5.960</td>\n",
       "      <td>19.594200</td>\n",
       "      <td>-1.0</td>\n",
       "      <td>-1.0</td>\n",
       "      <td>-1.0</td>\n",
       "    </tr>\n",
       "    <tr>\n",
       "      <th>3</th>\n",
       "      <td>1976</td>\n",
       "      <td>400</td>\n",
       "      <td>103000</td>\n",
       "      <td>31900</td>\n",
       "      <td>50400</td>\n",
       "      <td>31800</td>\n",
       "      <td>27700</td>\n",
       "      <td>2.24</td>\n",
       "      <td>26.05</td>\n",
       "      <td>9.584</td>\n",
       "      <td>620</td>\n",
       "      <td>612.0</td>\n",
       "      <td>136489.7</td>\n",
       "      <td>1.80</td>\n",
       "      <td>6.479</td>\n",
       "      <td>21.752450</td>\n",
       "      <td>-1.0</td>\n",
       "      <td>-1.0</td>\n",
       "      <td>-1.0</td>\n",
       "    </tr>\n",
       "    <tr>\n",
       "      <th>4</th>\n",
       "      <td>1977</td>\n",
       "      <td>900</td>\n",
       "      <td>116300</td>\n",
       "      <td>35700</td>\n",
       "      <td>56500</td>\n",
       "      <td>34100</td>\n",
       "      <td>30000</td>\n",
       "      <td>2.29</td>\n",
       "      <td>26.65</td>\n",
       "      <td>11.050</td>\n",
       "      <td>620</td>\n",
       "      <td>612.0</td>\n",
       "      <td>149468.8</td>\n",
       "      <td>1.75</td>\n",
       "      <td>7.328</td>\n",
       "      <td>23.655790</td>\n",
       "      <td>-1.0</td>\n",
       "      <td>-1.0</td>\n",
       "      <td>-1.0</td>\n",
       "    </tr>\n",
       "  </tbody>\n",
       "</table>\n",
       "</div>"
      ],
      "text/plain": [
       "   Years  Production (TJ)  Consumption (TJ)  Transportation (TJ)  \\\n",
       "0   1973             1600             84300                28400   \n",
       "1   1974             1000             93800                28400   \n",
       "2   1975              800             96000                30500   \n",
       "3   1976              400            103000                31900   \n",
       "4   1977              900            116300                35700   \n",
       "\n",
       "   Industry  (TJ)  Residential (TJ)  Commercial (TJ)  Population growth (%)  \\\n",
       "0           42900             27200            23000                   2.08   \n",
       "1           49800             28400            24300                   2.12   \n",
       "2           46100             29800            26000                   2.18   \n",
       "3           50400             31800            27700                   2.24   \n",
       "4           56500             34100            30000                   2.29   \n",
       "\n",
       "   Population density (%)  GDP (billion USD)  \\\n",
       "0                   24.40              6.242   \n",
       "1                   24.92              7.675   \n",
       "2                   25.47              8.985   \n",
       "3                   26.05              9.584   \n",
       "4                   26.65             11.050   \n",
       "\n",
       "   Installed capacity of renewable energies (MW)  Reserves (TJ)  \\\n",
       "0                                            620          612.0   \n",
       "1                                            620          612.0   \n",
       "2                                            620          612.0   \n",
       "3                                            620          612.0   \n",
       "4                                            620          612.0   \n",
       "\n",
       "   Oil & products Imports (TJ)  Population growth (%).1  GDP (Trillion USD)  \\\n",
       "0                     102576.6                     1.98               4.642   \n",
       "1                     126022.7                     1.93               5.350   \n",
       "2                     128116.1                     1.86               5.960   \n",
       "3                     136489.7                     1.80               6.479   \n",
       "4                     149468.8                     1.75               7.328   \n",
       "\n",
       "   Oil prices ($/MW)  Energy Security (%)  Energy Equity (%)  \\\n",
       "0           5.591059                 -1.0               -1.0   \n",
       "1          19.679170                 -1.0               -1.0   \n",
       "2          19.594200                 -1.0               -1.0   \n",
       "3          21.752450                 -1.0               -1.0   \n",
       "4          23.655790                 -1.0               -1.0   \n",
       "\n",
       "   Environmental Sustainability (%)  \n",
       "0                              -1.0  \n",
       "1                              -1.0  \n",
       "2                              -1.0  \n",
       "3                              -1.0  \n",
       "4                              -1.0  "
      ]
     },
     "execution_count": 25,
     "metadata": {},
     "output_type": "execute_result"
    }
   ],
   "source": [
    "df = pd.read_csv('Oil Factors.csv', header=1)\n",
    "df.head()"
   ]
  },
  {
   "cell_type": "code",
   "execution_count": 26,
   "metadata": {
    "colab": {
     "base_uri": "https://localhost:8080/"
    },
    "executionInfo": {
     "elapsed": 60,
     "status": "ok",
     "timestamp": 1647943778565,
     "user": {
      "displayName": "Aymane ElAlami",
      "photoUrl": "https://lh3.googleusercontent.com/a/default-user=s64",
      "userId": "16393328398258824499"
     },
     "user_tz": -60
    },
    "id": "85HRSmW3c-VI",
    "outputId": "8804e0fd-2cf9-4c82-ab08-78facbef39e0"
   },
   "outputs": [
    {
     "data": {
      "text/plain": [
       "(47, 19)"
      ]
     },
     "execution_count": 26,
     "metadata": {},
     "output_type": "execute_result"
    }
   ],
   "source": [
    "df.shape"
   ]
  },
  {
   "cell_type": "code",
   "execution_count": 27,
   "metadata": {
    "colab": {
     "base_uri": "https://localhost:8080/",
     "height": 285
    },
    "executionInfo": {
     "elapsed": 57,
     "status": "ok",
     "timestamp": 1647943778568,
     "user": {
      "displayName": "Aymane ElAlami",
      "photoUrl": "https://lh3.googleusercontent.com/a/default-user=s64",
      "userId": "16393328398258824499"
     },
     "user_tz": -60
    },
    "id": "XkDiaGVjZmqf",
    "outputId": "3238a865-6fb1-4563-eb5b-71b25942f80a"
   },
   "outputs": [
    {
     "data": {
      "text/html": [
       "<div>\n",
       "<style scoped>\n",
       "    .dataframe tbody tr th:only-of-type {\n",
       "        vertical-align: middle;\n",
       "    }\n",
       "\n",
       "    .dataframe tbody tr th {\n",
       "        vertical-align: top;\n",
       "    }\n",
       "\n",
       "    .dataframe thead th {\n",
       "        text-align: right;\n",
       "    }\n",
       "</style>\n",
       "<table border=\"1\" class=\"dataframe\">\n",
       "  <thead>\n",
       "    <tr style=\"text-align: right;\">\n",
       "      <th></th>\n",
       "      <th>Transportation (TJ)</th>\n",
       "      <th>Industry  (TJ)</th>\n",
       "      <th>Residential (TJ)</th>\n",
       "      <th>Commercial (TJ)</th>\n",
       "      <th>Population growth (%)</th>\n",
       "      <th>Population density (%)</th>\n",
       "      <th>GDP (billion USD)</th>\n",
       "      <th>Installed capacity of renewable energies (MW)</th>\n",
       "      <th>Reserves (TJ)</th>\n",
       "      <th>Oil &amp; products Imports (TJ)</th>\n",
       "      <th>Population growth (%).1</th>\n",
       "      <th>GDP (Trillion USD)</th>\n",
       "      <th>Oil prices ($/MW)</th>\n",
       "      <th>Energy Security (%)</th>\n",
       "      <th>Energy Equity (%)</th>\n",
       "      <th>Environmental Sustainability (%)</th>\n",
       "    </tr>\n",
       "  </thead>\n",
       "  <tbody>\n",
       "    <tr>\n",
       "      <th>42</th>\n",
       "      <td>224000</td>\n",
       "      <td>126000</td>\n",
       "      <td>51200</td>\n",
       "      <td>98400</td>\n",
       "      <td>1.37</td>\n",
       "      <td>49.61</td>\n",
       "      <td>101.2</td>\n",
       "      <td>2728</td>\n",
       "      <td>4186.08</td>\n",
       "      <td>567311.4</td>\n",
       "      <td>1.17</td>\n",
       "      <td>75.112</td>\n",
       "      <td>89.02658</td>\n",
       "      <td>110.11</td>\n",
       "      <td>122.69</td>\n",
       "      <td>101.16</td>\n",
       "    </tr>\n",
       "    <tr>\n",
       "      <th>43</th>\n",
       "      <td>233900</td>\n",
       "      <td>120800</td>\n",
       "      <td>51900</td>\n",
       "      <td>101800</td>\n",
       "      <td>1.33</td>\n",
       "      <td>50.28</td>\n",
       "      <td>103.3</td>\n",
       "      <td>2798</td>\n",
       "      <td>4186.08</td>\n",
       "      <td>532142.3</td>\n",
       "      <td>1.16</td>\n",
       "      <td>76.305</td>\n",
       "      <td>74.32229</td>\n",
       "      <td>109.87</td>\n",
       "      <td>121.99</td>\n",
       "      <td>100.13</td>\n",
       "    </tr>\n",
       "    <tr>\n",
       "      <th>44</th>\n",
       "      <td>241900</td>\n",
       "      <td>136500</td>\n",
       "      <td>53900</td>\n",
       "      <td>105100</td>\n",
       "      <td>1.29</td>\n",
       "      <td>50.93</td>\n",
       "      <td>109.7</td>\n",
       "      <td>2948</td>\n",
       "      <td>-1.00</td>\n",
       "      <td>565636.7</td>\n",
       "      <td>1.14</td>\n",
       "      <td>81.193</td>\n",
       "      <td>92.09518</td>\n",
       "      <td>113.51</td>\n",
       "      <td>121.42</td>\n",
       "      <td>102.35</td>\n",
       "    </tr>\n",
       "    <tr>\n",
       "      <th>45</th>\n",
       "      <td>248600</td>\n",
       "      <td>136200</td>\n",
       "      <td>54200</td>\n",
       "      <td>105500</td>\n",
       "      <td>1.25</td>\n",
       "      <td>51.57</td>\n",
       "      <td>118.1</td>\n",
       "      <td>3681</td>\n",
       "      <td>-1.00</td>\n",
       "      <td>552238.9</td>\n",
       "      <td>1.11</td>\n",
       "      <td>86.268</td>\n",
       "      <td>121.18500</td>\n",
       "      <td>113.15</td>\n",
       "      <td>130.98</td>\n",
       "      <td>102.23</td>\n",
       "    </tr>\n",
       "    <tr>\n",
       "      <th>46</th>\n",
       "      <td>260000</td>\n",
       "      <td>134700</td>\n",
       "      <td>55800</td>\n",
       "      <td>108800</td>\n",
       "      <td>1.22</td>\n",
       "      <td>52.20</td>\n",
       "      <td>119.7</td>\n",
       "      <td>3681</td>\n",
       "      <td>-1.00</td>\n",
       "      <td>551401.6</td>\n",
       "      <td>1.07</td>\n",
       "      <td>87.568</td>\n",
       "      <td>109.12010</td>\n",
       "      <td>115.69</td>\n",
       "      <td>151.65</td>\n",
       "      <td>99.43</td>\n",
       "    </tr>\n",
       "  </tbody>\n",
       "</table>\n",
       "</div>"
      ],
      "text/plain": [
       "    Transportation (TJ)  Industry  (TJ)  Residential (TJ)  Commercial (TJ)  \\\n",
       "42               224000          126000             51200            98400   \n",
       "43               233900          120800             51900           101800   \n",
       "44               241900          136500             53900           105100   \n",
       "45               248600          136200             54200           105500   \n",
       "46               260000          134700             55800           108800   \n",
       "\n",
       "    Population growth (%)  Population density (%)  GDP (billion USD)  \\\n",
       "42                   1.37                   49.61              101.2   \n",
       "43                   1.33                   50.28              103.3   \n",
       "44                   1.29                   50.93              109.7   \n",
       "45                   1.25                   51.57              118.1   \n",
       "46                   1.22                   52.20              119.7   \n",
       "\n",
       "    Installed capacity of renewable energies (MW)  Reserves (TJ)  \\\n",
       "42                                           2728        4186.08   \n",
       "43                                           2798        4186.08   \n",
       "44                                           2948          -1.00   \n",
       "45                                           3681          -1.00   \n",
       "46                                           3681          -1.00   \n",
       "\n",
       "    Oil & products Imports (TJ)  Population growth (%).1  GDP (Trillion USD)  \\\n",
       "42                     567311.4                     1.17              75.112   \n",
       "43                     532142.3                     1.16              76.305   \n",
       "44                     565636.7                     1.14              81.193   \n",
       "45                     552238.9                     1.11              86.268   \n",
       "46                     551401.6                     1.07              87.568   \n",
       "\n",
       "    Oil prices ($/MW)  Energy Security (%)  Energy Equity (%)  \\\n",
       "42           89.02658               110.11             122.69   \n",
       "43           74.32229               109.87             121.99   \n",
       "44           92.09518               113.51             121.42   \n",
       "45          121.18500               113.15             130.98   \n",
       "46          109.12010               115.69             151.65   \n",
       "\n",
       "    Environmental Sustainability (%)  \n",
       "42                            101.16  \n",
       "43                            100.13  \n",
       "44                            102.35  \n",
       "45                            102.23  \n",
       "46                             99.43  "
      ]
     },
     "execution_count": 27,
     "metadata": {},
     "output_type": "execute_result"
    }
   ],
   "source": [
    "production = df['Production (TJ)']\n",
    "consumption = df['Consumption (TJ)']\n",
    "df1 = df.drop(columns=['Years', 'Production (TJ)', 'Consumption (TJ)'])\n",
    "df1.tail()"
   ]
  },
  {
   "cell_type": "code",
   "execution_count": 28,
   "metadata": {
    "executionInfo": {
     "elapsed": 867,
     "status": "ok",
     "timestamp": 1647943779387,
     "user": {
      "displayName": "Aymane ElAlami",
      "photoUrl": "https://lh3.googleusercontent.com/a/default-user=s64",
      "userId": "16393328398258824499"
     },
     "user_tz": -60
    },
    "id": "92BrAktTkYdl"
   },
   "outputs": [],
   "source": [
    "from sklearn.model_selection import train_test_split\n",
    "from sklearn.linear_model import LogisticRegression\n",
    "from sklearn.linear_model import LinearRegression\n",
    "from sklearn.tree import DecisionTreeRegressor"
   ]
  },
  {
   "cell_type": "code",
   "execution_count": 29,
   "metadata": {
    "executionInfo": {
     "elapsed": 55,
     "status": "ok",
     "timestamp": 1647943779388,
     "user": {
      "displayName": "Aymane ElAlami",
      "photoUrl": "https://lh3.googleusercontent.com/a/default-user=s64",
      "userId": "16393328398258824499"
     },
     "user_tz": -60
    },
    "id": "IHss05-5mHGH"
   },
   "outputs": [],
   "source": [
    "#Data for the Consumption Prediction\n",
    "X_train, X_test, y_train, y_test = train_test_split(df1, production, random_state=47, test_size=0.25)"
   ]
  },
  {
   "cell_type": "markdown",
   "metadata": {
    "id": "X7jfuLBtfm1X"
   },
   "source": [
    "**Decision Regressor**"
   ]
  },
  {
   "cell_type": "code",
   "execution_count": 30,
   "metadata": {
    "colab": {
     "base_uri": "https://localhost:8080/"
    },
    "executionInfo": {
     "elapsed": 56,
     "status": "ok",
     "timestamp": 1647943779390,
     "user": {
      "displayName": "Aymane ElAlami",
      "photoUrl": "https://lh3.googleusercontent.com/a/default-user=s64",
      "userId": "16393328398258824499"
     },
     "user_tz": -60
    },
    "id": "6a7yp8IUmDdz",
    "outputId": "11789d82-824f-423d-a354-d4b5cf355304"
   },
   "outputs": [
    {
     "data": {
      "text/plain": [
       "DecisionTreeRegressor()"
      ]
     },
     "execution_count": 30,
     "metadata": {},
     "output_type": "execute_result"
    }
   ],
   "source": [
    "tree_model_Production = DecisionTreeRegressor()\n",
    "tree_model_Production.fit(X_train,y_train)"
   ]
  },
  {
   "cell_type": "code",
   "execution_count": 31,
   "metadata": {
    "colab": {
     "base_uri": "https://localhost:8080/"
    },
    "executionInfo": {
     "elapsed": 52,
     "status": "ok",
     "timestamp": 1647943779391,
     "user": {
      "displayName": "Aymane ElAlami",
      "photoUrl": "https://lh3.googleusercontent.com/a/default-user=s64",
      "userId": "16393328398258824499"
     },
     "user_tz": -60
    },
    "id": "R_prEVlFoR-V",
    "outputId": "1c652e92-1140-4877-b909-0ec6d2786080"
   },
   "outputs": [
    {
     "data": {
      "text/plain": [
       "(12,)"
      ]
     },
     "execution_count": 31,
     "metadata": {},
     "output_type": "execute_result"
    }
   ],
   "source": [
    "predicted_decision_reg_Production = tree_model_Production.predict(X_test)\n",
    "predicted_decision_reg_Production.shape"
   ]
  },
  {
   "cell_type": "code",
   "execution_count": 32,
   "metadata": {
    "colab": {
     "base_uri": "https://localhost:8080/"
    },
    "executionInfo": {
     "elapsed": 51,
     "status": "ok",
     "timestamp": 1647943779393,
     "user": {
      "displayName": "Aymane ElAlami",
      "photoUrl": "https://lh3.googleusercontent.com/a/default-user=s64",
      "userId": "16393328398258824499"
     },
     "user_tz": -60
    },
    "id": "25DTmVivfR0A",
    "outputId": "dec0b8d6-bff9-4a46-dc6a-5e4700240f8f"
   },
   "outputs": [
    {
     "data": {
      "text/plain": [
       "array([419., 377., 377., 335., 419., 800., 461., 600., 377., 628., 600.,\n",
       "       209.])"
      ]
     },
     "execution_count": 32,
     "metadata": {},
     "output_type": "execute_result"
    }
   ],
   "source": [
    "predicted_decision_reg_Production"
   ]
  },
  {
   "cell_type": "code",
   "execution_count": 33,
   "metadata": {
    "colab": {
     "base_uri": "https://localhost:8080/"
    },
    "executionInfo": {
     "elapsed": 50,
     "status": "ok",
     "timestamp": 1647943779394,
     "user": {
      "displayName": "Aymane ElAlami",
      "photoUrl": "https://lh3.googleusercontent.com/a/default-user=s64",
      "userId": "16393328398258824499"
     },
     "user_tz": -60
    },
    "id": "zoUZ_yCWg0Qf",
    "outputId": "18b1b56e-0cc7-4125-9f27-0ef5ecd81d29"
   },
   "outputs": [
    {
     "data": {
      "text/plain": [
       "0.4208647812728803"
      ]
     },
     "execution_count": 33,
     "metadata": {},
     "output_type": "execute_result"
    }
   ],
   "source": [
    "from sklearn import metrics\n",
    "\n",
    "tree_model_Production.score(X_test, y_test)"
   ]
  },
  {
   "cell_type": "markdown",
   "metadata": {
    "id": "8JZVDFO8fwu7"
   },
   "source": [
    "**Linear Regression**"
   ]
  },
  {
   "cell_type": "code",
   "execution_count": 34,
   "metadata": {
    "colab": {
     "base_uri": "https://localhost:8080/"
    },
    "executionInfo": {
     "elapsed": 48,
     "status": "ok",
     "timestamp": 1647943779394,
     "user": {
      "displayName": "Aymane ElAlami",
      "photoUrl": "https://lh3.googleusercontent.com/a/default-user=s64",
      "userId": "16393328398258824499"
     },
     "user_tz": -60
    },
    "id": "D7iW5XYtf2Ga",
    "outputId": "10728c5b-76bb-4c36-f28a-f3acf8e67c39"
   },
   "outputs": [
    {
     "data": {
      "text/plain": [
       "LinearRegression()"
      ]
     },
     "execution_count": 34,
     "metadata": {},
     "output_type": "execute_result"
    }
   ],
   "source": [
    "from pandas.core.common import random_state\n",
    "Linear_model_Production = LinearRegression()\n",
    "Linear_model_Production.fit(X_train, y_train)"
   ]
  },
  {
   "cell_type": "code",
   "execution_count": 35,
   "metadata": {
    "colab": {
     "base_uri": "https://localhost:8080/"
    },
    "executionInfo": {
     "elapsed": 47,
     "status": "ok",
     "timestamp": 1647943779395,
     "user": {
      "displayName": "Aymane ElAlami",
      "photoUrl": "https://lh3.googleusercontent.com/a/default-user=s64",
      "userId": "16393328398258824499"
     },
     "user_tz": -60
    },
    "id": "uAWhtCrtf0sf",
    "outputId": "d70769e7-1f3c-4089-c44a-65e3a532ee87"
   },
   "outputs": [
    {
     "data": {
      "text/plain": [
       "(12,)"
      ]
     },
     "execution_count": 35,
     "metadata": {},
     "output_type": "execute_result"
    }
   ],
   "source": [
    "predicted_Linear_Production = Linear_model_Production.predict(X_test)\n",
    "predicted_Linear_Production.shape"
   ]
  },
  {
   "cell_type": "code",
   "execution_count": 36,
   "metadata": {
    "colab": {
     "base_uri": "https://localhost:8080/"
    },
    "executionInfo": {
     "elapsed": 45,
     "status": "ok",
     "timestamp": 1647943779395,
     "user": {
      "displayName": "Aymane ElAlami",
      "photoUrl": "https://lh3.googleusercontent.com/a/default-user=s64",
      "userId": "16393328398258824499"
     },
     "user_tz": -60
    },
    "id": "3Vh0mBfzixBU",
    "outputId": "4ce8b4d4-118d-4ab4-a3f7-b6a5d8e9a2b2"
   },
   "outputs": [
    {
     "data": {
      "text/plain": [
       "array([352.88686815, 175.06525537, 318.54525612, 254.57785038,\n",
       "       484.60840956, 532.50483304, 426.70389597, 667.64542291,\n",
       "       304.21498319, 564.58317477, 653.73645586, 400.67563404])"
      ]
     },
     "execution_count": 36,
     "metadata": {},
     "output_type": "execute_result"
    }
   ],
   "source": [
    "predicted_Linear_Production"
   ]
  },
  {
   "cell_type": "code",
   "execution_count": 37,
   "metadata": {
    "colab": {
     "base_uri": "https://localhost:8080/"
    },
    "executionInfo": {
     "elapsed": 43,
     "status": "ok",
     "timestamp": 1647943779396,
     "user": {
      "displayName": "Aymane ElAlami",
      "photoUrl": "https://lh3.googleusercontent.com/a/default-user=s64",
      "userId": "16393328398258824499"
     },
     "user_tz": -60
    },
    "id": "UosOsjsWjPhZ",
    "outputId": "fe8f976d-ea32-4af1-85c5-4af11c79e002"
   },
   "outputs": [
    {
     "data": {
      "text/plain": [
       "0.20001559766300347"
      ]
     },
     "execution_count": 37,
     "metadata": {},
     "output_type": "execute_result"
    }
   ],
   "source": [
    "from sklearn import metrics\n",
    "\n",
    "Linear_model_Production.score(X_test, y_test)"
   ]
  },
  {
   "cell_type": "markdown",
   "metadata": {
    "id": "8JZVDFO8fwu7"
   },
   "source": [
    "**Predicting the Next 10 years**"
   ]
  },
  {
   "cell_type": "code",
   "execution_count": 38,
   "metadata": {},
   "outputs": [
    {
     "data": {
      "text/html": [
       "<div>\n",
       "<style scoped>\n",
       "    .dataframe tbody tr th:only-of-type {\n",
       "        vertical-align: middle;\n",
       "    }\n",
       "\n",
       "    .dataframe tbody tr th {\n",
       "        vertical-align: top;\n",
       "    }\n",
       "\n",
       "    .dataframe thead th {\n",
       "        text-align: right;\n",
       "    }\n",
       "</style>\n",
       "<table border=\"1\" class=\"dataframe\">\n",
       "  <thead>\n",
       "    <tr style=\"text-align: right;\">\n",
       "      <th></th>\n",
       "      <th>0</th>\n",
       "      <th>1</th>\n",
       "      <th>2</th>\n",
       "      <th>3</th>\n",
       "      <th>0.1</th>\n",
       "      <th>1.1</th>\n",
       "      <th>2.1</th>\n",
       "      <th>0.2</th>\n",
       "      <th>1.2</th>\n",
       "      <th>2.2</th>\n",
       "      <th>0.3</th>\n",
       "      <th>1.3</th>\n",
       "      <th>2.3</th>\n",
       "      <th>0.4</th>\n",
       "      <th>1.4</th>\n",
       "      <th>2.4</th>\n",
       "    </tr>\n",
       "  </thead>\n",
       "  <tbody>\n",
       "    <tr>\n",
       "      <th>0</th>\n",
       "      <td>178869.033302</td>\n",
       "      <td>117854.278446</td>\n",
       "      <td>46255.226642</td>\n",
       "      <td>83752.960222</td>\n",
       "      <td>1.246681</td>\n",
       "      <td>46.813992</td>\n",
       "      <td>84.587487</td>\n",
       "      <td>2102.054810</td>\n",
       "      <td>6605.994255</td>\n",
       "      <td>497809.552798</td>\n",
       "      <td>1.246681</td>\n",
       "      <td>62.579260</td>\n",
       "      <td>103.830175</td>\n",
       "      <td>87.021112</td>\n",
       "      <td>97.385740</td>\n",
       "      <td>85.691457</td>\n",
       "    </tr>\n",
       "    <tr>\n",
       "      <th>1</th>\n",
       "      <td>183989.465772</td>\n",
       "      <td>119784.447271</td>\n",
       "      <td>46770.721554</td>\n",
       "      <td>85620.420907</td>\n",
       "      <td>1.216976</td>\n",
       "      <td>47.407727</td>\n",
       "      <td>87.093682</td>\n",
       "      <td>2158.570883</td>\n",
       "      <td>6663.927766</td>\n",
       "      <td>508964.314928</td>\n",
       "      <td>1.216976</td>\n",
       "      <td>64.430572</td>\n",
       "      <td>106.516201</td>\n",
       "      <td>90.241541</td>\n",
       "      <td>101.033430</td>\n",
       "      <td>88.832625</td>\n",
       "    </tr>\n",
       "    <tr>\n",
       "      <th>2</th>\n",
       "      <td>189109.898242</td>\n",
       "      <td>121714.616096</td>\n",
       "      <td>47286.216466</td>\n",
       "      <td>87487.881591</td>\n",
       "      <td>1.187271</td>\n",
       "      <td>48.001462</td>\n",
       "      <td>89.599876</td>\n",
       "      <td>2215.086957</td>\n",
       "      <td>6721.861277</td>\n",
       "      <td>520119.077058</td>\n",
       "      <td>1.187271</td>\n",
       "      <td>66.281883</td>\n",
       "      <td>109.202227</td>\n",
       "      <td>93.461970</td>\n",
       "      <td>104.681119</td>\n",
       "      <td>91.973793</td>\n",
       "    </tr>\n",
       "    <tr>\n",
       "      <th>3</th>\n",
       "      <td>194230.330712</td>\n",
       "      <td>123644.784921</td>\n",
       "      <td>47801.711378</td>\n",
       "      <td>89355.342276</td>\n",
       "      <td>1.157566</td>\n",
       "      <td>48.595197</td>\n",
       "      <td>92.106070</td>\n",
       "      <td>2271.603030</td>\n",
       "      <td>6779.794787</td>\n",
       "      <td>531273.839188</td>\n",
       "      <td>1.157566</td>\n",
       "      <td>68.133195</td>\n",
       "      <td>111.888253</td>\n",
       "      <td>96.682399</td>\n",
       "      <td>108.328809</td>\n",
       "      <td>95.114961</td>\n",
       "    </tr>\n",
       "    <tr>\n",
       "      <th>4</th>\n",
       "      <td>199350.763182</td>\n",
       "      <td>125574.953747</td>\n",
       "      <td>48317.206290</td>\n",
       "      <td>91222.802960</td>\n",
       "      <td>1.127861</td>\n",
       "      <td>49.188932</td>\n",
       "      <td>94.612265</td>\n",
       "      <td>2328.119103</td>\n",
       "      <td>6837.728298</td>\n",
       "      <td>542428.601318</td>\n",
       "      <td>1.127861</td>\n",
       "      <td>69.984507</td>\n",
       "      <td>114.574280</td>\n",
       "      <td>99.902828</td>\n",
       "      <td>111.976499</td>\n",
       "      <td>98.256129</td>\n",
       "    </tr>\n",
       "    <tr>\n",
       "      <th>5</th>\n",
       "      <td>204471.195652</td>\n",
       "      <td>127505.122572</td>\n",
       "      <td>48832.701203</td>\n",
       "      <td>93090.263645</td>\n",
       "      <td>1.098156</td>\n",
       "      <td>49.782667</td>\n",
       "      <td>97.118459</td>\n",
       "      <td>2384.635176</td>\n",
       "      <td>6895.661809</td>\n",
       "      <td>553583.363448</td>\n",
       "      <td>1.098156</td>\n",
       "      <td>71.835819</td>\n",
       "      <td>117.260306</td>\n",
       "      <td>103.123257</td>\n",
       "      <td>115.624188</td>\n",
       "      <td>101.397296</td>\n",
       "    </tr>\n",
       "    <tr>\n",
       "      <th>6</th>\n",
       "      <td>209591.628122</td>\n",
       "      <td>129435.291397</td>\n",
       "      <td>49348.196115</td>\n",
       "      <td>94957.724329</td>\n",
       "      <td>1.068451</td>\n",
       "      <td>50.376401</td>\n",
       "      <td>99.624654</td>\n",
       "      <td>2441.151249</td>\n",
       "      <td>6953.595319</td>\n",
       "      <td>564738.125578</td>\n",
       "      <td>1.068451</td>\n",
       "      <td>73.687131</td>\n",
       "      <td>119.946332</td>\n",
       "      <td>106.343686</td>\n",
       "      <td>119.271878</td>\n",
       "      <td>104.538464</td>\n",
       "    </tr>\n",
       "    <tr>\n",
       "      <th>7</th>\n",
       "      <td>214712.060592</td>\n",
       "      <td>131365.460222</td>\n",
       "      <td>49863.691027</td>\n",
       "      <td>96825.185014</td>\n",
       "      <td>1.038745</td>\n",
       "      <td>50.970136</td>\n",
       "      <td>102.130848</td>\n",
       "      <td>2497.667322</td>\n",
       "      <td>7011.528830</td>\n",
       "      <td>575892.887708</td>\n",
       "      <td>1.038745</td>\n",
       "      <td>75.538443</td>\n",
       "      <td>122.632358</td>\n",
       "      <td>109.564115</td>\n",
       "      <td>122.919568</td>\n",
       "      <td>107.679632</td>\n",
       "    </tr>\n",
       "    <tr>\n",
       "      <th>8</th>\n",
       "      <td>219832.493062</td>\n",
       "      <td>133295.629047</td>\n",
       "      <td>50379.185939</td>\n",
       "      <td>98692.645698</td>\n",
       "      <td>1.009040</td>\n",
       "      <td>51.563871</td>\n",
       "      <td>104.637042</td>\n",
       "      <td>2554.183395</td>\n",
       "      <td>7069.462340</td>\n",
       "      <td>587047.649838</td>\n",
       "      <td>1.009040</td>\n",
       "      <td>77.389755</td>\n",
       "      <td>125.318384</td>\n",
       "      <td>112.784544</td>\n",
       "      <td>126.567257</td>\n",
       "      <td>110.820800</td>\n",
       "    </tr>\n",
       "    <tr>\n",
       "      <th>9</th>\n",
       "      <td>224952.925532</td>\n",
       "      <td>135225.797872</td>\n",
       "      <td>50894.680851</td>\n",
       "      <td>100560.106383</td>\n",
       "      <td>0.979335</td>\n",
       "      <td>52.157606</td>\n",
       "      <td>107.143237</td>\n",
       "      <td>2610.699468</td>\n",
       "      <td>7127.395851</td>\n",
       "      <td>598202.411968</td>\n",
       "      <td>0.979335</td>\n",
       "      <td>79.241066</td>\n",
       "      <td>128.004410</td>\n",
       "      <td>116.004973</td>\n",
       "      <td>130.214947</td>\n",
       "      <td>113.961968</td>\n",
       "    </tr>\n",
       "  </tbody>\n",
       "</table>\n",
       "</div>"
      ],
      "text/plain": [
       "               0              1             2              3       0.1  \\\n",
       "0  178869.033302  117854.278446  46255.226642   83752.960222  1.246681   \n",
       "1  183989.465772  119784.447271  46770.721554   85620.420907  1.216976   \n",
       "2  189109.898242  121714.616096  47286.216466   87487.881591  1.187271   \n",
       "3  194230.330712  123644.784921  47801.711378   89355.342276  1.157566   \n",
       "4  199350.763182  125574.953747  48317.206290   91222.802960  1.127861   \n",
       "5  204471.195652  127505.122572  48832.701203   93090.263645  1.098156   \n",
       "6  209591.628122  129435.291397  49348.196115   94957.724329  1.068451   \n",
       "7  214712.060592  131365.460222  49863.691027   96825.185014  1.038745   \n",
       "8  219832.493062  133295.629047  50379.185939   98692.645698  1.009040   \n",
       "9  224952.925532  135225.797872  50894.680851  100560.106383  0.979335   \n",
       "\n",
       "         1.1         2.1          0.2          1.2            2.2       0.3  \\\n",
       "0  46.813992   84.587487  2102.054810  6605.994255  497809.552798  1.246681   \n",
       "1  47.407727   87.093682  2158.570883  6663.927766  508964.314928  1.216976   \n",
       "2  48.001462   89.599876  2215.086957  6721.861277  520119.077058  1.187271   \n",
       "3  48.595197   92.106070  2271.603030  6779.794787  531273.839188  1.157566   \n",
       "4  49.188932   94.612265  2328.119103  6837.728298  542428.601318  1.127861   \n",
       "5  49.782667   97.118459  2384.635176  6895.661809  553583.363448  1.098156   \n",
       "6  50.376401   99.624654  2441.151249  6953.595319  564738.125578  1.068451   \n",
       "7  50.970136  102.130848  2497.667322  7011.528830  575892.887708  1.038745   \n",
       "8  51.563871  104.637042  2554.183395  7069.462340  587047.649838  1.009040   \n",
       "9  52.157606  107.143237  2610.699468  7127.395851  598202.411968  0.979335   \n",
       "\n",
       "         1.3         2.3         0.4         1.4         2.4  \n",
       "0  62.579260  103.830175   87.021112   97.385740   85.691457  \n",
       "1  64.430572  106.516201   90.241541  101.033430   88.832625  \n",
       "2  66.281883  109.202227   93.461970  104.681119   91.973793  \n",
       "3  68.133195  111.888253   96.682399  108.328809   95.114961  \n",
       "4  69.984507  114.574280   99.902828  111.976499   98.256129  \n",
       "5  71.835819  117.260306  103.123257  115.624188  101.397296  \n",
       "6  73.687131  119.946332  106.343686  119.271878  104.538464  \n",
       "7  75.538443  122.632358  109.564115  122.919568  107.679632  \n",
       "8  77.389755  125.318384  112.784544  126.567257  110.820800  \n",
       "9  79.241066  128.004410  116.004973  130.214947  113.961968  "
      ]
     },
     "execution_count": 38,
     "metadata": {},
     "output_type": "execute_result"
    }
   ],
   "source": [
    "pred_facts = pd.read_csv('PredOilFactors.csv', index_col=0)\n",
    "pred_facts"
   ]
  },
  {
   "cell_type": "code",
   "execution_count": 39,
   "metadata": {},
   "outputs": [
    {
     "data": {
      "text/plain": [
       "(10, 16)"
      ]
     },
     "execution_count": 39,
     "metadata": {},
     "output_type": "execute_result"
    }
   ],
   "source": [
    "pred_facts.shape"
   ]
  },
  {
   "cell_type": "code",
   "execution_count": 40,
   "metadata": {},
   "outputs": [
    {
     "data": {
      "text/plain": [
       "array([209., 209., 209., 209., 419., 419., 419., 209., 209., 194.])"
      ]
     },
     "execution_count": 40,
     "metadata": {},
     "output_type": "execute_result"
    }
   ],
   "source": [
    "## Decision Tree Regression\n",
    "pred_tree = tree_model_Production.predict(pred_facts)\n",
    "pred_tree"
   ]
  },
  {
   "cell_type": "code",
   "execution_count": 41,
   "metadata": {},
   "outputs": [
    {
     "data": {
      "text/plain": [
       "array([341.41161181, 305.69795372, 269.98429564, 234.27063755,\n",
       "       198.55697946, 162.84332138, 127.12966329,  91.4160052 ,\n",
       "        55.70234712,  19.98868903])"
      ]
     },
     "execution_count": 41,
     "metadata": {},
     "output_type": "execute_result"
    }
   ],
   "source": [
    "## Linear Regression\n",
    "pred_linear = Linear_model_Production.predict(pred_facts)\n",
    "pred_linear"
   ]
  },
  {
   "cell_type": "markdown",
   "metadata": {
    "id": "8JZVDFO8fwu7"
   },
   "source": [
    "**Linear Regression - Outputting next 10 years**"
   ]
  },
  {
   "cell_type": "code",
   "execution_count": 42,
   "metadata": {},
   "outputs": [
    {
     "data": {
      "text/html": [
       "<div>\n",
       "<style scoped>\n",
       "    .dataframe tbody tr th:only-of-type {\n",
       "        vertical-align: middle;\n",
       "    }\n",
       "\n",
       "    .dataframe tbody tr th {\n",
       "        vertical-align: top;\n",
       "    }\n",
       "\n",
       "    .dataframe thead th {\n",
       "        text-align: right;\n",
       "    }\n",
       "</style>\n",
       "<table border=\"1\" class=\"dataframe\">\n",
       "  <thead>\n",
       "    <tr style=\"text-align: right;\">\n",
       "      <th></th>\n",
       "      <th>0</th>\n",
       "    </tr>\n",
       "  </thead>\n",
       "  <tbody>\n",
       "    <tr>\n",
       "      <th>8</th>\n",
       "      <td>55.702347</td>\n",
       "    </tr>\n",
       "    <tr>\n",
       "      <th>9</th>\n",
       "      <td>19.988689</td>\n",
       "    </tr>\n",
       "  </tbody>\n",
       "</table>\n",
       "</div>"
      ],
      "text/plain": [
       "           0\n",
       "8  55.702347\n",
       "9  19.988689"
      ]
     },
     "execution_count": 42,
     "metadata": {},
     "output_type": "execute_result"
    }
   ],
   "source": [
    "#putting in dataframe\n",
    "pred_linear = pd.DataFrame(pred_linear)\n",
    "pred_linear.tail(2)"
   ]
  },
  {
   "cell_type": "code",
   "execution_count": 43,
   "metadata": {},
   "outputs": [],
   "source": [
    "#outputing to CSV\n",
    "pred_linear.to_csv('oilProductionPredicted.csv')"
   ]
  },
  {
   "cell_type": "code",
   "execution_count": null,
   "metadata": {},
   "outputs": [],
   "source": []
  }
 ],
 "metadata": {
  "colab": {
   "authorship_tag": "ABX9TyPmWBXKRnstS1J/M45kxGrd",
   "name": "Energy Production Prediction - Research.ipynb",
   "provenance": []
  },
  "kernelspec": {
   "display_name": "Python 3 (ipykernel)",
   "language": "python",
   "name": "python3"
  },
  "language_info": {
   "codemirror_mode": {
    "name": "ipython",
    "version": 3
   },
   "file_extension": ".py",
   "mimetype": "text/x-python",
   "name": "python",
   "nbconvert_exporter": "python",
   "pygments_lexer": "ipython3",
   "version": "3.9.7"
  }
 },
 "nbformat": 4,
 "nbformat_minor": 1
}
