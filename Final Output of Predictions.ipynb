{
 "cells": [
  {
   "cell_type": "code",
   "execution_count": 27,
   "id": "41eb57ab",
   "metadata": {},
   "outputs": [],
   "source": [
    "import pandas as pd"
   ]
  },
  {
   "cell_type": "code",
   "execution_count": 28,
   "id": "1295bb4b",
   "metadata": {},
   "outputs": [],
   "source": [
    "#Reading all files - Oil\n",
    "df = pd.read_csv('Oil Factors.csv')\n",
    "oil_facts_pred = pd.read_csv('predOilFactors.csv', index_col = 0)\n",
    "oil_cons_pred = pd.read_csv('oilConsumtionPredicted.csv', index_col = 0)\n",
    "oil_prod_pred = pd.read_csv('oilProductionPredicted.csv', index_col = 0)"
   ]
  },
  {
   "cell_type": "code",
   "execution_count": 29,
   "id": "cea97655",
   "metadata": {},
   "outputs": [
    {
     "name": "stdout",
     "output_type": "stream",
     "text": [
      "(48, 19)\n",
      "(10, 16)\n",
      "(10, 1)\n",
      "(10, 1)\n"
     ]
    }
   ],
   "source": [
    "print(df.shape)\n",
    "print(oil_facts_pred.shape)\n",
    "print(oil_cons_pred.shape)\n",
    "print(oil_prod_pred.shape)"
   ]
  },
  {
   "cell_type": "code",
   "execution_count": 30,
   "id": "bb16d87e",
   "metadata": {},
   "outputs": [],
   "source": [
    "#Reading all files - Gas\n",
    "df = pd.read_csv('Gas Factors.csv')\n",
    "gas_facts_pred = pd.read_csv('predGasFactors.csv', index_col = 0)\n",
    "oil_cons_pred = pd.read_csv('GasConsumtionPredicted.csv', index_col = 0)\n",
    "oil_prod_pred = pd.read_csv('GasProductionPredicted.csv', index_col = 0)"
   ]
  },
  {
   "cell_type": "code",
   "execution_count": 31,
   "id": "d905cc8b",
   "metadata": {},
   "outputs": [
    {
     "name": "stdout",
     "output_type": "stream",
     "text": [
      "(48, 20)\n",
      "(10, 17)\n",
      "(10, 1)\n",
      "(10, 1)\n"
     ]
    }
   ],
   "source": [
    "print(df.shape)\n",
    "print(gas_facts_pred.shape)\n",
    "print(oil_cons_pred.shape)\n",
    "print(oil_prod_pred.shape)"
   ]
  },
  {
   "cell_type": "code",
   "execution_count": 32,
   "id": "2f89b4fb",
   "metadata": {},
   "outputs": [
    {
     "data": {
      "text/html": [
       "<div>\n",
       "<style scoped>\n",
       "    .dataframe tbody tr th:only-of-type {\n",
       "        vertical-align: middle;\n",
       "    }\n",
       "\n",
       "    .dataframe tbody tr th {\n",
       "        vertical-align: top;\n",
       "    }\n",
       "\n",
       "    .dataframe thead th {\n",
       "        text-align: right;\n",
       "    }\n",
       "</style>\n",
       "<table border=\"1\" class=\"dataframe\">\n",
       "  <thead>\n",
       "    <tr style=\"text-align: right;\">\n",
       "      <th></th>\n",
       "      <th>0</th>\n",
       "    </tr>\n",
       "  </thead>\n",
       "  <tbody>\n",
       "    <tr>\n",
       "      <th>8</th>\n",
       "      <td>2028</td>\n",
       "    </tr>\n",
       "    <tr>\n",
       "      <th>9</th>\n",
       "      <td>2029</td>\n",
       "    </tr>\n",
       "  </tbody>\n",
       "</table>\n",
       "</div>"
      ],
      "text/plain": [
       "      0\n",
       "8  2028\n",
       "9  2029"
      ]
     },
     "execution_count": 32,
     "metadata": {},
     "output_type": "execute_result"
    }
   ],
   "source": [
    "#creating a list of years\n",
    "pred_years = []\n",
    "for i in range(2020, 2030):\n",
    "    pred_years.append(i)\n",
    "pred_years = pd.DataFrame(pred_years)\n",
    "pred_years.tail(2)"
   ]
  },
  {
   "cell_type": "code",
   "execution_count": 33,
   "id": "7177c473",
   "metadata": {},
   "outputs": [
    {
     "data": {
      "text/plain": [
       "(10, 19)"
      ]
     },
     "execution_count": 33,
     "metadata": {},
     "output_type": "execute_result"
    }
   ],
   "source": [
    "#Merging the Oil Data\n",
    "\n",
    "Oil_Data = pd.concat([pred_years, oil_prod_pred, oil_cons_pred,\n",
    "                    oil_facts_pred], axis = 1)\n",
    "Oil_Data.shape"
   ]
  },
  {
   "cell_type": "code",
   "execution_count": 34,
   "id": "5b362bcd",
   "metadata": {},
   "outputs": [
    {
     "data": {
      "text/plain": [
       "(10, 19)"
      ]
     },
     "execution_count": 34,
     "metadata": {},
     "output_type": "execute_result"
    }
   ],
   "source": [
    "#Merging the Oil Data\n",
    "\n",
    "Oil_Data = pd.concat([pred_years, oil_prod_pred, oil_cons_pred,\n",
    "                    oil_facts_pred], axis = 1)\n",
    "Oil_Data.shape"
   ]
  },
  {
   "cell_type": "code",
   "execution_count": 35,
   "id": "45f7fd16",
   "metadata": {},
   "outputs": [],
   "source": [
    "#Outputting the data - Oil\n",
    "Oil_Data.to_csv('Final_OilPredicted10Years')"
   ]
  },
  {
   "cell_type": "code",
   "execution_count": null,
   "id": "8793a9a4",
   "metadata": {},
   "outputs": [],
   "source": []
  }
 ],
 "metadata": {
  "kernelspec": {
   "display_name": "Python 3 (ipykernel)",
   "language": "python",
   "name": "python3"
  },
  "language_info": {
   "codemirror_mode": {
    "name": "ipython",
    "version": 3
   },
   "file_extension": ".py",
   "mimetype": "text/x-python",
   "name": "python",
   "nbconvert_exporter": "python",
   "pygments_lexer": "ipython3",
   "version": "3.9.7"
  }
 },
 "nbformat": 4,
 "nbformat_minor": 5
}
