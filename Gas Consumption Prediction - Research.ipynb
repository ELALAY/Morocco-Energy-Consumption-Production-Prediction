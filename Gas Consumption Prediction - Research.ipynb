{
 "cells": [
  {
   "cell_type": "code",
   "execution_count": 2,
   "metadata": {
    "colab": {
     "base_uri": "https://localhost:8080/"
    },
    "executionInfo": {
     "elapsed": 31277,
     "status": "ok",
     "timestamp": 1647943810813,
     "user": {
      "displayName": "Aymane ElAlami",
      "photoUrl": "https://lh3.googleusercontent.com/a/default-user=s64",
      "userId": "16393328398258824499"
     },
     "user_tz": -60
    },
    "id": "p1hgYtIyk9jh",
    "outputId": "70ecc5a4-8d0d-450d-9e38-e5a101146c5d"
   },
   "outputs": [
    {
     "name": "stdout",
     "output_type": "stream",
     "text": [
      "Mounted at /content/drive\n"
     ]
    }
   ],
   "source": [
    "#from google.colab import drive\n",
    "#drive.mount('/content/drive')"
   ]
  },
  {
   "cell_type": "code",
   "execution_count": 1,
   "metadata": {
    "colab": {
     "base_uri": "https://localhost:8080/",
     "height": 1000
    },
    "executionInfo": {
     "elapsed": 996,
     "status": "ok",
     "timestamp": 1647943811799,
     "user": {
      "displayName": "Aymane ElAlami",
      "photoUrl": "https://lh3.googleusercontent.com/a/default-user=s64",
      "userId": "16393328398258824499"
     },
     "user_tz": -60
    },
    "id": "oc-XMB7bh9Gr",
    "outputId": "c1f201eb-c2ea-414e-8af0-e897c2a89afb"
   },
   "outputs": [],
   "source": [
    "#path = \"/content/drive/MyDrive/Colab Notebooks/Research Energy Consumption Production/Factors.csv\"\n",
    "#df = pd.read_csv(path, header=1)\n",
    "#df"
   ]
  },
  {
   "cell_type": "code",
   "execution_count": 4,
   "metadata": {
    "executionInfo": {
     "elapsed": 407,
     "status": "ok",
     "timestamp": 1647943779544,
     "user": {
      "displayName": "Aymane ElAlami",
      "photoUrl": "https://lh3.googleusercontent.com/a/default-user=s64",
      "userId": "16393328398258824499"
     },
     "user_tz": -60
    },
    "id": "5WkrGrnlhDnD"
   },
   "outputs": [],
   "source": [
    "import numpy as np\n",
    "import pandas as pd"
   ]
  },
  {
   "cell_type": "code",
   "execution_count": 8,
   "metadata": {},
   "outputs": [],
   "source": [
    "pd.read_csv?"
   ]
  },
  {
   "cell_type": "code",
   "execution_count": 63,
   "metadata": {},
   "outputs": [
    {
     "data": {
      "text/html": [
       "<div>\n",
       "<style scoped>\n",
       "    .dataframe tbody tr th:only-of-type {\n",
       "        vertical-align: middle;\n",
       "    }\n",
       "\n",
       "    .dataframe tbody tr th {\n",
       "        vertical-align: top;\n",
       "    }\n",
       "\n",
       "    .dataframe thead th {\n",
       "        text-align: right;\n",
       "    }\n",
       "</style>\n",
       "<table border=\"1\" class=\"dataframe\">\n",
       "  <thead>\n",
       "    <tr style=\"text-align: right;\">\n",
       "      <th></th>\n",
       "      <th>Years</th>\n",
       "      <th>Production (TJ)</th>\n",
       "      <th>Consumption (TJ)</th>\n",
       "      <th>Transportation (TJ)</th>\n",
       "      <th>Industry  (TJ)</th>\n",
       "      <th>Residential (TJ)</th>\n",
       "      <th>Commercial (TJ)</th>\n",
       "      <th>Population growth (%)</th>\n",
       "      <th>Population density (%)</th>\n",
       "      <th>GDP (billion USD)</th>\n",
       "      <th>Installed capacity of renewable energies (MW)</th>\n",
       "      <th>Reserves (TJ)</th>\n",
       "      <th>Oil &amp; products Imports (TJ)</th>\n",
       "      <th>Population growth (%).1</th>\n",
       "      <th>GDP (Trillion USD)</th>\n",
       "      <th>Oil prices ($/MW)</th>\n",
       "      <th>Energy Security (%)</th>\n",
       "      <th>Energy Equity (%)</th>\n",
       "      <th>Environmental Sustainability (%)</th>\n",
       "    </tr>\n",
       "  </thead>\n",
       "  <tbody>\n",
       "    <tr>\n",
       "      <th>0</th>\n",
       "      <td>1973</td>\n",
       "      <td>1600</td>\n",
       "      <td>84300</td>\n",
       "      <td>28400</td>\n",
       "      <td>42900</td>\n",
       "      <td>27200</td>\n",
       "      <td>23000</td>\n",
       "      <td>2.08</td>\n",
       "      <td>24.40</td>\n",
       "      <td>6.242</td>\n",
       "      <td>620</td>\n",
       "      <td>612.0</td>\n",
       "      <td>102576.6</td>\n",
       "      <td>1.98</td>\n",
       "      <td>4.642</td>\n",
       "      <td>5.591059</td>\n",
       "      <td>-1.0</td>\n",
       "      <td>-1.0</td>\n",
       "      <td>-1.0</td>\n",
       "    </tr>\n",
       "    <tr>\n",
       "      <th>1</th>\n",
       "      <td>1974</td>\n",
       "      <td>1000</td>\n",
       "      <td>93800</td>\n",
       "      <td>28400</td>\n",
       "      <td>49800</td>\n",
       "      <td>28400</td>\n",
       "      <td>24300</td>\n",
       "      <td>2.12</td>\n",
       "      <td>24.92</td>\n",
       "      <td>7.675</td>\n",
       "      <td>620</td>\n",
       "      <td>612.0</td>\n",
       "      <td>126022.7</td>\n",
       "      <td>1.93</td>\n",
       "      <td>5.350</td>\n",
       "      <td>19.679170</td>\n",
       "      <td>-1.0</td>\n",
       "      <td>-1.0</td>\n",
       "      <td>-1.0</td>\n",
       "    </tr>\n",
       "    <tr>\n",
       "      <th>2</th>\n",
       "      <td>1975</td>\n",
       "      <td>800</td>\n",
       "      <td>96000</td>\n",
       "      <td>30500</td>\n",
       "      <td>46100</td>\n",
       "      <td>29800</td>\n",
       "      <td>26000</td>\n",
       "      <td>2.18</td>\n",
       "      <td>25.47</td>\n",
       "      <td>8.985</td>\n",
       "      <td>620</td>\n",
       "      <td>612.0</td>\n",
       "      <td>128116.1</td>\n",
       "      <td>1.86</td>\n",
       "      <td>5.960</td>\n",
       "      <td>19.594200</td>\n",
       "      <td>-1.0</td>\n",
       "      <td>-1.0</td>\n",
       "      <td>-1.0</td>\n",
       "    </tr>\n",
       "    <tr>\n",
       "      <th>3</th>\n",
       "      <td>1976</td>\n",
       "      <td>400</td>\n",
       "      <td>103000</td>\n",
       "      <td>31900</td>\n",
       "      <td>50400</td>\n",
       "      <td>31800</td>\n",
       "      <td>27700</td>\n",
       "      <td>2.24</td>\n",
       "      <td>26.05</td>\n",
       "      <td>9.584</td>\n",
       "      <td>620</td>\n",
       "      <td>612.0</td>\n",
       "      <td>136489.7</td>\n",
       "      <td>1.80</td>\n",
       "      <td>6.479</td>\n",
       "      <td>21.752450</td>\n",
       "      <td>-1.0</td>\n",
       "      <td>-1.0</td>\n",
       "      <td>-1.0</td>\n",
       "    </tr>\n",
       "    <tr>\n",
       "      <th>4</th>\n",
       "      <td>1977</td>\n",
       "      <td>900</td>\n",
       "      <td>116300</td>\n",
       "      <td>35700</td>\n",
       "      <td>56500</td>\n",
       "      <td>34100</td>\n",
       "      <td>30000</td>\n",
       "      <td>2.29</td>\n",
       "      <td>26.65</td>\n",
       "      <td>11.050</td>\n",
       "      <td>620</td>\n",
       "      <td>612.0</td>\n",
       "      <td>149468.8</td>\n",
       "      <td>1.75</td>\n",
       "      <td>7.328</td>\n",
       "      <td>23.655790</td>\n",
       "      <td>-1.0</td>\n",
       "      <td>-1.0</td>\n",
       "      <td>-1.0</td>\n",
       "    </tr>\n",
       "  </tbody>\n",
       "</table>\n",
       "</div>"
      ],
      "text/plain": [
       "   Years  Production (TJ)  Consumption (TJ)  Transportation (TJ)  \\\n",
       "0   1973             1600             84300                28400   \n",
       "1   1974             1000             93800                28400   \n",
       "2   1975              800             96000                30500   \n",
       "3   1976              400            103000                31900   \n",
       "4   1977              900            116300                35700   \n",
       "\n",
       "   Industry  (TJ)  Residential (TJ)  Commercial (TJ)  Population growth (%)  \\\n",
       "0           42900             27200            23000                   2.08   \n",
       "1           49800             28400            24300                   2.12   \n",
       "2           46100             29800            26000                   2.18   \n",
       "3           50400             31800            27700                   2.24   \n",
       "4           56500             34100            30000                   2.29   \n",
       "\n",
       "   Population density (%)  GDP (billion USD)  \\\n",
       "0                   24.40              6.242   \n",
       "1                   24.92              7.675   \n",
       "2                   25.47              8.985   \n",
       "3                   26.05              9.584   \n",
       "4                   26.65             11.050   \n",
       "\n",
       "   Installed capacity of renewable energies (MW)  Reserves (TJ)  \\\n",
       "0                                            620          612.0   \n",
       "1                                            620          612.0   \n",
       "2                                            620          612.0   \n",
       "3                                            620          612.0   \n",
       "4                                            620          612.0   \n",
       "\n",
       "   Oil & products Imports (TJ)  Population growth (%).1  GDP (Trillion USD)  \\\n",
       "0                     102576.6                     1.98               4.642   \n",
       "1                     126022.7                     1.93               5.350   \n",
       "2                     128116.1                     1.86               5.960   \n",
       "3                     136489.7                     1.80               6.479   \n",
       "4                     149468.8                     1.75               7.328   \n",
       "\n",
       "   Oil prices ($/MW)  Energy Security (%)  Energy Equity (%)  \\\n",
       "0           5.591059                 -1.0               -1.0   \n",
       "1          19.679170                 -1.0               -1.0   \n",
       "2          19.594200                 -1.0               -1.0   \n",
       "3          21.752450                 -1.0               -1.0   \n",
       "4          23.655790                 -1.0               -1.0   \n",
       "\n",
       "   Environmental Sustainability (%)  \n",
       "0                              -1.0  \n",
       "1                              -1.0  \n",
       "2                              -1.0  \n",
       "3                              -1.0  \n",
       "4                              -1.0  "
      ]
     },
     "execution_count": 63,
     "metadata": {},
     "output_type": "execute_result"
    }
   ],
   "source": [
    "df = pd.read_csv('Oil Factors.csv', header=1)\n",
    "df.head()"
   ]
  },
  {
   "cell_type": "code",
   "execution_count": 28,
   "metadata": {},
   "outputs": [
    {
     "data": {
      "text/plain": [
       "(10, 16)"
      ]
     },
     "execution_count": 28,
     "metadata": {},
     "output_type": "execute_result"
    }
   ],
   "source": [
    "df.shape"
   ]
  },
  {
   "cell_type": "code",
   "execution_count": 32,
   "metadata": {
    "colab": {
     "base_uri": "https://localhost:8080/"
    },
    "executionInfo": {
     "elapsed": 33,
     "status": "ok",
     "timestamp": 1647943811801,
     "user": {
      "displayName": "Aymane ElAlami",
      "photoUrl": "https://lh3.googleusercontent.com/a/default-user=s64",
      "userId": "16393328398258824499"
     },
     "user_tz": -60
    },
    "id": "XkDiaGVjZmqf",
    "outputId": "b4c092b1-5ab9-4ddf-e8ec-86b4f5423aa4"
   },
   "outputs": [
    {
     "data": {
      "text/plain": [
       "(47, 16)"
      ]
     },
     "execution_count": 32,
     "metadata": {},
     "output_type": "execute_result"
    }
   ],
   "source": [
    "production = df['Production (TJ)']\n",
    "consumption = df['Consumption (TJ)']\n",
    "df1 = df.drop(columns=['Years', 'Production (TJ)', 'Consumption (TJ)'])\n",
    "df1.shape"
   ]
  },
  {
   "cell_type": "code",
   "execution_count": 33,
   "metadata": {
    "executionInfo": {
     "elapsed": 1777,
     "status": "ok",
     "timestamp": 1647943813548,
     "user": {
      "displayName": "Aymane ElAlami",
      "photoUrl": "https://lh3.googleusercontent.com/a/default-user=s64",
      "userId": "16393328398258824499"
     },
     "user_tz": -60
    },
    "id": "92BrAktTkYdl"
   },
   "outputs": [],
   "source": [
    "from sklearn.model_selection import train_test_split\n",
    "from sklearn.linear_model import LinearRegression\n",
    "from sklearn.tree import DecisionTreeRegressor"
   ]
  },
  {
   "cell_type": "code",
   "execution_count": 34,
   "metadata": {
    "executionInfo": {
     "elapsed": 72,
     "status": "ok",
     "timestamp": 1647943813550,
     "user": {
      "displayName": "Aymane ElAlami",
      "photoUrl": "https://lh3.googleusercontent.com/a/default-user=s64",
      "userId": "16393328398258824499"
     },
     "user_tz": -60
    },
    "id": "IHss05-5mHGH"
   },
   "outputs": [],
   "source": [
    "#Data for the Consumption Prediction\n",
    "X_train, X_test, y_train, y_test = train_test_split(df1, consumption, random_state=47, test_size=0.25)"
   ]
  },
  {
   "cell_type": "markdown",
   "metadata": {
    "id": "X7jfuLBtfm1X"
   },
   "source": [
    "**Decision Regressor**"
   ]
  },
  {
   "cell_type": "code",
   "execution_count": 35,
   "metadata": {
    "colab": {
     "base_uri": "https://localhost:8080/"
    },
    "executionInfo": {
     "elapsed": 73,
     "status": "ok",
     "timestamp": 1647943813552,
     "user": {
      "displayName": "Aymane ElAlami",
      "photoUrl": "https://lh3.googleusercontent.com/a/default-user=s64",
      "userId": "16393328398258824499"
     },
     "user_tz": -60
    },
    "id": "6a7yp8IUmDdz",
    "outputId": "cb81a5bc-39f9-4479-c8b4-550984cc3c3e"
   },
   "outputs": [
    {
     "data": {
      "text/plain": [
       "DecisionTreeRegressor(random_state=200)"
      ]
     },
     "execution_count": 35,
     "metadata": {},
     "output_type": "execute_result"
    }
   ],
   "source": [
    "tree_model_Consumption = DecisionTreeRegressor(random_state=200)\n",
    "tree_model_Consumption.fit(X_train,y_train)"
   ]
  },
  {
   "cell_type": "code",
   "execution_count": 36,
   "metadata": {
    "colab": {
     "base_uri": "https://localhost:8080/"
    },
    "executionInfo": {
     "elapsed": 72,
     "status": "ok",
     "timestamp": 1647943813553,
     "user": {
      "displayName": "Aymane ElAlami",
      "photoUrl": "https://lh3.googleusercontent.com/a/default-user=s64",
      "userId": "16393328398258824499"
     },
     "user_tz": -60
    },
    "id": "R_prEVlFoR-V",
    "outputId": "9810d0f8-a7c8-4224-a083-5d9d34d04f17"
   },
   "outputs": [
    {
     "data": {
      "text/plain": [
       "(12,)"
      ]
     },
     "execution_count": 36,
     "metadata": {},
     "output_type": "execute_result"
    }
   ],
   "source": [
    "predicted_decision_reg_consumption = tree_model_Consumption.predict(X_test)\n",
    "predicted_decision_reg_consumption.shape"
   ]
  },
  {
   "cell_type": "code",
   "execution_count": 37,
   "metadata": {
    "colab": {
     "base_uri": "https://localhost:8080/"
    },
    "executionInfo": {
     "elapsed": 71,
     "status": "ok",
     "timestamp": 1647943813554,
     "user": {
      "displayName": "Aymane ElAlami",
      "photoUrl": "https://lh3.googleusercontent.com/a/default-user=s64",
      "userId": "16393328398258824499"
     },
     "user_tz": -60
    },
    "id": "25DTmVivfR0A",
    "outputId": "07fb4c29-1428-4c95-ae20-9b43ff0de5b3"
   },
   "outputs": [
    {
     "data": {
      "text/plain": [
       "array([239954., 369240., 369240., 369240., 199245., 129100., 290764.,\n",
       "       129100., 314003., 149962., 129100., 202789.])"
      ]
     },
     "execution_count": 37,
     "metadata": {},
     "output_type": "execute_result"
    }
   ],
   "source": [
    "predicted_decision_reg_consumption"
   ]
  },
  {
   "cell_type": "code",
   "execution_count": 38,
   "metadata": {
    "colab": {
     "base_uri": "https://localhost:8080/"
    },
    "executionInfo": {
     "elapsed": 69,
     "status": "ok",
     "timestamp": 1647943813556,
     "user": {
      "displayName": "Aymane ElAlami",
      "photoUrl": "https://lh3.googleusercontent.com/a/default-user=s64",
      "userId": "16393328398258824499"
     },
     "user_tz": -60
    },
    "id": "zoUZ_yCWg0Qf",
    "outputId": "3fd26c4d-85ed-46b5-a661-029890943bcf"
   },
   "outputs": [
    {
     "data": {
      "text/plain": [
       "0.9634618835451336"
      ]
     },
     "execution_count": 38,
     "metadata": {},
     "output_type": "execute_result"
    }
   ],
   "source": [
    "from sklearn import metrics\n",
    "\n",
    "tree_model_Consumption.score(X_test, y_test)"
   ]
  },
  {
   "cell_type": "markdown",
   "metadata": {
    "id": "8JZVDFO8fwu7"
   },
   "source": [
    "**Linear Regression**"
   ]
  },
  {
   "cell_type": "code",
   "execution_count": 39,
   "metadata": {
    "colab": {
     "base_uri": "https://localhost:8080/"
    },
    "executionInfo": {
     "elapsed": 67,
     "status": "ok",
     "timestamp": 1647943813557,
     "user": {
      "displayName": "Aymane ElAlami",
      "photoUrl": "https://lh3.googleusercontent.com/a/default-user=s64",
      "userId": "16393328398258824499"
     },
     "user_tz": -60
    },
    "id": "D7iW5XYtf2Ga",
    "outputId": "488e342e-faf6-48a2-ce35-83f4bbde1ad4"
   },
   "outputs": [
    {
     "data": {
      "text/plain": [
       "LinearRegression()"
      ]
     },
     "execution_count": 39,
     "metadata": {},
     "output_type": "execute_result"
    }
   ],
   "source": [
    "Linear_model_Consumption = LinearRegression()\n",
    "Linear_model_Consumption.fit(X_train, y_train)"
   ]
  },
  {
   "cell_type": "code",
   "execution_count": 40,
   "metadata": {
    "colab": {
     "base_uri": "https://localhost:8080/"
    },
    "executionInfo": {
     "elapsed": 63,
     "status": "ok",
     "timestamp": 1647943813557,
     "user": {
      "displayName": "Aymane ElAlami",
      "photoUrl": "https://lh3.googleusercontent.com/a/default-user=s64",
      "userId": "16393328398258824499"
     },
     "user_tz": -60
    },
    "id": "uAWhtCrtf0sf",
    "outputId": "af302d43-29a7-47ff-c3d8-fa876fed0f6f"
   },
   "outputs": [
    {
     "data": {
      "text/plain": [
       "(12,)"
      ]
     },
     "execution_count": 40,
     "metadata": {},
     "output_type": "execute_result"
    }
   ],
   "source": [
    "predicted_Linear_Consumption = Linear_model_Consumption.predict(X_test)\n",
    "predicted_Linear_Consumption.shape"
   ]
  },
  {
   "cell_type": "code",
   "execution_count": 41,
   "metadata": {
    "colab": {
     "base_uri": "https://localhost:8080/"
    },
    "executionInfo": {
     "elapsed": 61,
     "status": "ok",
     "timestamp": 1647943813558,
     "user": {
      "displayName": "Aymane ElAlami",
      "photoUrl": "https://lh3.googleusercontent.com/a/default-user=s64",
      "userId": "16393328398258824499"
     },
     "user_tz": -60
    },
    "id": "3Vh0mBfzixBU",
    "outputId": "aa49fcad-5bd5-4de0-ad4e-4dfe325e5018"
   },
   "outputs": [
    {
     "data": {
      "text/plain": [
       "array([224988.48164832, 377237.87424203, 340093.84966049, 398493.82908384,\n",
       "       196492.0390639 , 124738.66460538, 255235.80892989, 124423.01042518,\n",
       "       327664.24489752, 165595.96971729, 126718.31486306, 213077.9721992 ])"
      ]
     },
     "execution_count": 41,
     "metadata": {},
     "output_type": "execute_result"
    }
   ],
   "source": [
    "predicted_Linear_Consumption"
   ]
  },
  {
   "cell_type": "code",
   "execution_count": 43,
   "metadata": {
    "colab": {
     "base_uri": "https://localhost:8080/"
    },
    "executionInfo": {
     "elapsed": 59,
     "status": "ok",
     "timestamp": 1647943813559,
     "user": {
      "displayName": "Aymane ElAlami",
      "photoUrl": "https://lh3.googleusercontent.com/a/default-user=s64",
      "userId": "16393328398258824499"
     },
     "user_tz": -60
    },
    "id": "UosOsjsWjPhZ",
    "outputId": "8147c634-8b27-4bc7-d824-12a9c0842a91"
   },
   "outputs": [
    {
     "data": {
      "text/plain": [
       "0.9958017912066518"
      ]
     },
     "execution_count": 43,
     "metadata": {},
     "output_type": "execute_result"
    }
   ],
   "source": [
    "from sklearn import metrics\n",
    "\n",
    "Linear_model_Consumption.score(X_test, y_test)"
   ]
  },
  {
   "cell_type": "markdown",
   "metadata": {
    "id": "3gqgd9O9k18o"
   },
   "source": [
    "**Predicting next 15 years**"
   ]
  },
  {
   "cell_type": "code",
   "execution_count": 64,
   "metadata": {
    "colab": {
     "base_uri": "https://localhost:8080/"
    },
    "executionInfo": {
     "elapsed": 54,
     "status": "ok",
     "timestamp": 1647943813560,
     "user": {
      "displayName": "Aymane ElAlami",
      "photoUrl": "https://lh3.googleusercontent.com/a/default-user=s64",
      "userId": "16393328398258824499"
     },
     "user_tz": -60
    },
    "id": "bc2Bus-ZlV6-",
    "outputId": "8dd87fdc-dc5f-406f-ec53-90e3ac3199ad"
   },
   "outputs": [
    {
     "data": {
      "text/html": [
       "<div>\n",
       "<style scoped>\n",
       "    .dataframe tbody tr th:only-of-type {\n",
       "        vertical-align: middle;\n",
       "    }\n",
       "\n",
       "    .dataframe tbody tr th {\n",
       "        vertical-align: top;\n",
       "    }\n",
       "\n",
       "    .dataframe thead th {\n",
       "        text-align: right;\n",
       "    }\n",
       "</style>\n",
       "<table border=\"1\" class=\"dataframe\">\n",
       "  <thead>\n",
       "    <tr style=\"text-align: right;\">\n",
       "      <th></th>\n",
       "      <th>0</th>\n",
       "      <th>1</th>\n",
       "      <th>2</th>\n",
       "      <th>3</th>\n",
       "      <th>0.1</th>\n",
       "      <th>1.1</th>\n",
       "      <th>2.1</th>\n",
       "      <th>0.2</th>\n",
       "      <th>1.2</th>\n",
       "      <th>2.2</th>\n",
       "      <th>0.3</th>\n",
       "      <th>1.3</th>\n",
       "      <th>2.3</th>\n",
       "      <th>0.4</th>\n",
       "      <th>1.4</th>\n",
       "      <th>2.4</th>\n",
       "    </tr>\n",
       "  </thead>\n",
       "  <tbody>\n",
       "    <tr>\n",
       "      <th>0</th>\n",
       "      <td>178869.033302</td>\n",
       "      <td>117854.278446</td>\n",
       "      <td>46255.226642</td>\n",
       "      <td>83752.960222</td>\n",
       "      <td>1.246681</td>\n",
       "      <td>46.813992</td>\n",
       "      <td>84.587487</td>\n",
       "      <td>2102.054810</td>\n",
       "      <td>6605.994255</td>\n",
       "      <td>497809.552798</td>\n",
       "      <td>1.246681</td>\n",
       "      <td>62.579260</td>\n",
       "      <td>103.830175</td>\n",
       "      <td>87.021112</td>\n",
       "      <td>97.385740</td>\n",
       "      <td>85.691457</td>\n",
       "    </tr>\n",
       "    <tr>\n",
       "      <th>1</th>\n",
       "      <td>183989.465772</td>\n",
       "      <td>119784.447271</td>\n",
       "      <td>46770.721554</td>\n",
       "      <td>85620.420907</td>\n",
       "      <td>1.216976</td>\n",
       "      <td>47.407727</td>\n",
       "      <td>87.093682</td>\n",
       "      <td>2158.570883</td>\n",
       "      <td>6663.927766</td>\n",
       "      <td>508964.314928</td>\n",
       "      <td>1.216976</td>\n",
       "      <td>64.430572</td>\n",
       "      <td>106.516201</td>\n",
       "      <td>90.241541</td>\n",
       "      <td>101.033430</td>\n",
       "      <td>88.832625</td>\n",
       "    </tr>\n",
       "    <tr>\n",
       "      <th>2</th>\n",
       "      <td>189109.898242</td>\n",
       "      <td>121714.616096</td>\n",
       "      <td>47286.216466</td>\n",
       "      <td>87487.881591</td>\n",
       "      <td>1.187271</td>\n",
       "      <td>48.001462</td>\n",
       "      <td>89.599876</td>\n",
       "      <td>2215.086957</td>\n",
       "      <td>6721.861277</td>\n",
       "      <td>520119.077058</td>\n",
       "      <td>1.187271</td>\n",
       "      <td>66.281883</td>\n",
       "      <td>109.202227</td>\n",
       "      <td>93.461970</td>\n",
       "      <td>104.681119</td>\n",
       "      <td>91.973793</td>\n",
       "    </tr>\n",
       "    <tr>\n",
       "      <th>3</th>\n",
       "      <td>194230.330712</td>\n",
       "      <td>123644.784921</td>\n",
       "      <td>47801.711378</td>\n",
       "      <td>89355.342276</td>\n",
       "      <td>1.157566</td>\n",
       "      <td>48.595197</td>\n",
       "      <td>92.106070</td>\n",
       "      <td>2271.603030</td>\n",
       "      <td>6779.794787</td>\n",
       "      <td>531273.839188</td>\n",
       "      <td>1.157566</td>\n",
       "      <td>68.133195</td>\n",
       "      <td>111.888253</td>\n",
       "      <td>96.682399</td>\n",
       "      <td>108.328809</td>\n",
       "      <td>95.114961</td>\n",
       "    </tr>\n",
       "    <tr>\n",
       "      <th>4</th>\n",
       "      <td>199350.763182</td>\n",
       "      <td>125574.953747</td>\n",
       "      <td>48317.206290</td>\n",
       "      <td>91222.802960</td>\n",
       "      <td>1.127861</td>\n",
       "      <td>49.188932</td>\n",
       "      <td>94.612265</td>\n",
       "      <td>2328.119103</td>\n",
       "      <td>6837.728298</td>\n",
       "      <td>542428.601318</td>\n",
       "      <td>1.127861</td>\n",
       "      <td>69.984507</td>\n",
       "      <td>114.574280</td>\n",
       "      <td>99.902828</td>\n",
       "      <td>111.976499</td>\n",
       "      <td>98.256129</td>\n",
       "    </tr>\n",
       "    <tr>\n",
       "      <th>5</th>\n",
       "      <td>204471.195652</td>\n",
       "      <td>127505.122572</td>\n",
       "      <td>48832.701203</td>\n",
       "      <td>93090.263645</td>\n",
       "      <td>1.098156</td>\n",
       "      <td>49.782667</td>\n",
       "      <td>97.118459</td>\n",
       "      <td>2384.635176</td>\n",
       "      <td>6895.661809</td>\n",
       "      <td>553583.363448</td>\n",
       "      <td>1.098156</td>\n",
       "      <td>71.835819</td>\n",
       "      <td>117.260306</td>\n",
       "      <td>103.123257</td>\n",
       "      <td>115.624188</td>\n",
       "      <td>101.397296</td>\n",
       "    </tr>\n",
       "    <tr>\n",
       "      <th>6</th>\n",
       "      <td>209591.628122</td>\n",
       "      <td>129435.291397</td>\n",
       "      <td>49348.196115</td>\n",
       "      <td>94957.724329</td>\n",
       "      <td>1.068451</td>\n",
       "      <td>50.376401</td>\n",
       "      <td>99.624654</td>\n",
       "      <td>2441.151249</td>\n",
       "      <td>6953.595319</td>\n",
       "      <td>564738.125578</td>\n",
       "      <td>1.068451</td>\n",
       "      <td>73.687131</td>\n",
       "      <td>119.946332</td>\n",
       "      <td>106.343686</td>\n",
       "      <td>119.271878</td>\n",
       "      <td>104.538464</td>\n",
       "    </tr>\n",
       "    <tr>\n",
       "      <th>7</th>\n",
       "      <td>214712.060592</td>\n",
       "      <td>131365.460222</td>\n",
       "      <td>49863.691027</td>\n",
       "      <td>96825.185014</td>\n",
       "      <td>1.038745</td>\n",
       "      <td>50.970136</td>\n",
       "      <td>102.130848</td>\n",
       "      <td>2497.667322</td>\n",
       "      <td>7011.528830</td>\n",
       "      <td>575892.887708</td>\n",
       "      <td>1.038745</td>\n",
       "      <td>75.538443</td>\n",
       "      <td>122.632358</td>\n",
       "      <td>109.564115</td>\n",
       "      <td>122.919568</td>\n",
       "      <td>107.679632</td>\n",
       "    </tr>\n",
       "    <tr>\n",
       "      <th>8</th>\n",
       "      <td>219832.493062</td>\n",
       "      <td>133295.629047</td>\n",
       "      <td>50379.185939</td>\n",
       "      <td>98692.645698</td>\n",
       "      <td>1.009040</td>\n",
       "      <td>51.563871</td>\n",
       "      <td>104.637042</td>\n",
       "      <td>2554.183395</td>\n",
       "      <td>7069.462340</td>\n",
       "      <td>587047.649838</td>\n",
       "      <td>1.009040</td>\n",
       "      <td>77.389755</td>\n",
       "      <td>125.318384</td>\n",
       "      <td>112.784544</td>\n",
       "      <td>126.567257</td>\n",
       "      <td>110.820800</td>\n",
       "    </tr>\n",
       "    <tr>\n",
       "      <th>9</th>\n",
       "      <td>224952.925532</td>\n",
       "      <td>135225.797872</td>\n",
       "      <td>50894.680851</td>\n",
       "      <td>100560.106383</td>\n",
       "      <td>0.979335</td>\n",
       "      <td>52.157606</td>\n",
       "      <td>107.143237</td>\n",
       "      <td>2610.699468</td>\n",
       "      <td>7127.395851</td>\n",
       "      <td>598202.411968</td>\n",
       "      <td>0.979335</td>\n",
       "      <td>79.241066</td>\n",
       "      <td>128.004410</td>\n",
       "      <td>116.004973</td>\n",
       "      <td>130.214947</td>\n",
       "      <td>113.961968</td>\n",
       "    </tr>\n",
       "  </tbody>\n",
       "</table>\n",
       "</div>"
      ],
      "text/plain": [
       "               0              1             2              3       0.1  \\\n",
       "0  178869.033302  117854.278446  46255.226642   83752.960222  1.246681   \n",
       "1  183989.465772  119784.447271  46770.721554   85620.420907  1.216976   \n",
       "2  189109.898242  121714.616096  47286.216466   87487.881591  1.187271   \n",
       "3  194230.330712  123644.784921  47801.711378   89355.342276  1.157566   \n",
       "4  199350.763182  125574.953747  48317.206290   91222.802960  1.127861   \n",
       "5  204471.195652  127505.122572  48832.701203   93090.263645  1.098156   \n",
       "6  209591.628122  129435.291397  49348.196115   94957.724329  1.068451   \n",
       "7  214712.060592  131365.460222  49863.691027   96825.185014  1.038745   \n",
       "8  219832.493062  133295.629047  50379.185939   98692.645698  1.009040   \n",
       "9  224952.925532  135225.797872  50894.680851  100560.106383  0.979335   \n",
       "\n",
       "         1.1         2.1          0.2          1.2            2.2       0.3  \\\n",
       "0  46.813992   84.587487  2102.054810  6605.994255  497809.552798  1.246681   \n",
       "1  47.407727   87.093682  2158.570883  6663.927766  508964.314928  1.216976   \n",
       "2  48.001462   89.599876  2215.086957  6721.861277  520119.077058  1.187271   \n",
       "3  48.595197   92.106070  2271.603030  6779.794787  531273.839188  1.157566   \n",
       "4  49.188932   94.612265  2328.119103  6837.728298  542428.601318  1.127861   \n",
       "5  49.782667   97.118459  2384.635176  6895.661809  553583.363448  1.098156   \n",
       "6  50.376401   99.624654  2441.151249  6953.595319  564738.125578  1.068451   \n",
       "7  50.970136  102.130848  2497.667322  7011.528830  575892.887708  1.038745   \n",
       "8  51.563871  104.637042  2554.183395  7069.462340  587047.649838  1.009040   \n",
       "9  52.157606  107.143237  2610.699468  7127.395851  598202.411968  0.979335   \n",
       "\n",
       "         1.3         2.3         0.4         1.4         2.4  \n",
       "0  62.579260  103.830175   87.021112   97.385740   85.691457  \n",
       "1  64.430572  106.516201   90.241541  101.033430   88.832625  \n",
       "2  66.281883  109.202227   93.461970  104.681119   91.973793  \n",
       "3  68.133195  111.888253   96.682399  108.328809   95.114961  \n",
       "4  69.984507  114.574280   99.902828  111.976499   98.256129  \n",
       "5  71.835819  117.260306  103.123257  115.624188  101.397296  \n",
       "6  73.687131  119.946332  106.343686  119.271878  104.538464  \n",
       "7  75.538443  122.632358  109.564115  122.919568  107.679632  \n",
       "8  77.389755  125.318384  112.784544  126.567257  110.820800  \n",
       "9  79.241066  128.004410  116.004973  130.214947  113.961968  "
      ]
     },
     "execution_count": 64,
     "metadata": {},
     "output_type": "execute_result"
    }
   ],
   "source": [
    "pred_facts = pd.read_csv('PredOilFactors.csv', index_col=0)\n",
    "pred_facts"
   ]
  },
  {
   "cell_type": "code",
   "execution_count": 49,
   "metadata": {},
   "outputs": [
    {
     "data": {
      "text/plain": [
       "(10, 16)"
      ]
     },
     "execution_count": 49,
     "metadata": {},
     "output_type": "execute_result"
    }
   ],
   "source": [
    "pred_facts.shape"
   ]
  },
  {
   "cell_type": "code",
   "execution_count": 60,
   "metadata": {
    "executionInfo": {
     "elapsed": 339,
     "status": "ok",
     "timestamp": 1647944249949,
     "user": {
      "displayName": "Aymane ElAlami",
      "photoUrl": "https://lh3.googleusercontent.com/a/default-user=s64",
      "userId": "16393328398258824499"
     },
     "user_tz": -60
    },
    "id": "zo3gMVfbk9yE"
   },
   "outputs": [
    {
     "name": "stderr",
     "output_type": "stream",
     "text": [
      "C:\\Users\\Aymane\\anaconda3\\lib\\site-packages\\sklearn\\base.py:493: FutureWarning: The feature names should match those that were passed during fit. Starting version 1.2, an error will be raised.\n",
      "Feature names unseen at fit time:\n",
      "- 0\n",
      "- 0.1\n",
      "- 0.2\n",
      "- 0.3\n",
      "- 0.4\n",
      "- ...\n",
      "Feature names seen at fit time, yet now missing:\n",
      "- Commercial (TJ)\n",
      "- Energy Equity (%)\n",
      "- Energy Security (%)\n",
      "- Environmental Sustainability (%)\n",
      "- GDP (Trillion USD)\n",
      "- ...\n",
      "\n",
      "  warnings.warn(message, FutureWarning)\n"
     ]
    },
    {
     "data": {
      "text/plain": [
       "array([369240., 369240., 369240., 369240., 523677., 523677., 523677.,\n",
       "       523677., 523677., 523677.])"
      ]
     },
     "execution_count": 60,
     "metadata": {},
     "output_type": "execute_result"
    }
   ],
   "source": [
    "## Decision Tree Regression\n",
    "pred_tree = tree_model_Consumption.predict(pred_facts)\n",
    "pred_tree"
   ]
  },
  {
   "cell_type": "code",
   "execution_count": 59,
   "metadata": {
    "executionInfo": {
     "elapsed": 456,
     "status": "ok",
     "timestamp": 1647944151285,
     "user": {
      "displayName": "Aymane ElAlami",
      "photoUrl": "https://lh3.googleusercontent.com/a/default-user=s64",
      "userId": "16393328398258824499"
     },
     "user_tz": -60
    },
    "id": "Qk0PUV8iKVeD"
   },
   "outputs": [
    {
     "name": "stderr",
     "output_type": "stream",
     "text": [
      "C:\\Users\\Aymane\\anaconda3\\lib\\site-packages\\sklearn\\base.py:493: FutureWarning: The feature names should match those that were passed during fit. Starting version 1.2, an error will be raised.\n",
      "Feature names unseen at fit time:\n",
      "- 0\n",
      "- 0.1\n",
      "- 0.2\n",
      "- 0.3\n",
      "- 0.4\n",
      "- ...\n",
      "Feature names seen at fit time, yet now missing:\n",
      "- Commercial (TJ)\n",
      "- Energy Equity (%)\n",
      "- Energy Security (%)\n",
      "- Environmental Sustainability (%)\n",
      "- GDP (Trillion USD)\n",
      "- ...\n",
      "\n",
      "  warnings.warn(message, FutureWarning)\n"
     ]
    },
    {
     "data": {
      "text/plain": [
       "array([378477.83525077, 388156.69660718, 397835.55796359, 407514.41932   ,\n",
       "       417193.28067641, 426872.14203282, 436551.00338923, 446229.86474564,\n",
       "       455908.72610205, 465587.58745846])"
      ]
     },
     "execution_count": 59,
     "metadata": {},
     "output_type": "execute_result"
    }
   ],
   "source": [
    "## Linear Regression\n",
    "pred_linear = Linear_model_Consumption.predict(pred_facts)\n",
    "pred_linear"
   ]
  },
  {
   "cell_type": "code",
   "execution_count": null,
   "metadata": {},
   "outputs": [],
   "source": []
  },
  {
   "cell_type": "code",
   "execution_count": null,
   "metadata": {},
   "outputs": [],
   "source": []
  }
 ],
 "metadata": {
  "colab": {
   "authorship_tag": "ABX9TyNnoJW/5LdTFXbGXDxf852b",
   "name": "Energy Consumption Prediction - Research.ipynb",
   "provenance": []
  },
  "kernelspec": {
   "display_name": "Python 3 (ipykernel)",
   "language": "python",
   "name": "python3"
  },
  "language_info": {
   "codemirror_mode": {
    "name": "ipython",
    "version": 3
   },
   "file_extension": ".py",
   "mimetype": "text/x-python",
   "name": "python",
   "nbconvert_exporter": "python",
   "pygments_lexer": "ipython3",
   "version": "3.9.7"
  }
 },
 "nbformat": 4,
 "nbformat_minor": 1
}
